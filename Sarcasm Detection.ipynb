{
 "cells": [
  {
   "cell_type": "code",
   "execution_count": 1,
   "metadata": {},
   "outputs": [],
   "source": [
    "import tensorflow as tf\n",
    "from tensorflow import keras\n",
    "from tensorflow.keras.preprocessing.text import Tokenizer\n",
    "from tensorflow.keras.preprocessing.sequence import pad_sequences\n",
    "import numpy as np\n",
    "import wget\n",
    "import json"
   ]
  },
  {
   "cell_type": "code",
   "execution_count": 2,
   "metadata": {},
   "outputs": [],
   "source": [
    "URL = \"https://storage.googleapis.com/laurencemoroney-blog.appspot.com/sarcasm.json\"\n",
    "PATH = \"D:/Code/ML/Sarcasm Dataset/sarcasm.json\""
   ]
  },
  {
   "cell_type": "code",
   "execution_count": 3,
   "metadata": {},
   "outputs": [],
   "source": [
    "# wget.download(URL, PATH)"
   ]
  },
  {
   "cell_type": "code",
   "execution_count": 4,
   "metadata": {
    "scrolled": false
   },
   "outputs": [],
   "source": [
    "with open(PATH, 'r') as f:\n",
    "    datastore = json.load(f)\n",
    "\n",
    "sentences = [] \n",
    "labels = []\n",
    "urls = []\n",
    "for item in datastore:\n",
    "    sentences.append(item['headline'])\n",
    "    labels.append(item['is_sarcastic'])\n",
    "    urls.append(item['article_link'])"
   ]
  },
  {
   "cell_type": "code",
   "execution_count": 5,
   "metadata": {},
   "outputs": [],
   "source": [
    "vocab_size = 10000\n",
    "embedding_dim = 32\n",
    "max_length = 32\n",
    "trunc_type = 'post'\n",
    "padding_type = 'post'\n",
    "oov_tok = \"<OOV>\"\n",
    "training_size = 20000"
   ]
  },
  {
   "cell_type": "code",
   "execution_count": 6,
   "metadata": {},
   "outputs": [],
   "source": [
    "training_sentences = sentences[0:training_size]\n",
    "testing_sentences = sentences[training_size:]\n",
    "training_labels = labels[0:training_size]\n",
    "testing_labels = labels[training_size:]"
   ]
  },
  {
   "cell_type": "code",
   "execution_count": 7,
   "metadata": {},
   "outputs": [
    {
     "data": {
      "text/plain": [
       "[\"former versace store clerk sues over secret 'black code' for minority shoppers\",\n",
       " \"the 'roseanne' revival catches up to our thorny political mood, for better and worse\",\n",
       " \"mom starting to fear son's web series closest thing she will have to grandchild\"]"
      ]
     },
     "execution_count": 7,
     "metadata": {},
     "output_type": "execute_result"
    }
   ],
   "source": [
    "training_sentences[:3]"
   ]
  },
  {
   "cell_type": "code",
   "execution_count": 8,
   "metadata": {},
   "outputs": [
    {
     "data": {
      "text/plain": [
       "[0, 0, 1]"
      ]
     },
     "execution_count": 8,
     "metadata": {},
     "output_type": "execute_result"
    }
   ],
   "source": [
    "training_labels[:3]"
   ]
  },
  {
   "cell_type": "code",
   "execution_count": 9,
   "metadata": {},
   "outputs": [
    {
     "data": {
      "text/plain": [
       "['pediatricians announce 2011 newborns are ugliest babies in 30 years',\n",
       " \"don't rely on your fitness tracker to lose weight\",\n",
       " 'you might want to cut back on the soap']"
      ]
     },
     "execution_count": 9,
     "metadata": {},
     "output_type": "execute_result"
    }
   ],
   "source": [
    "testing_sentences[:3]"
   ]
  },
  {
   "cell_type": "code",
   "execution_count": 10,
   "metadata": {},
   "outputs": [
    {
     "data": {
      "text/plain": [
       "[1, 0, 0]"
      ]
     },
     "execution_count": 10,
     "metadata": {},
     "output_type": "execute_result"
    }
   ],
   "source": [
    "testing_labels[:3]"
   ]
  },
  {
   "cell_type": "code",
   "execution_count": 11,
   "metadata": {},
   "outputs": [],
   "source": [
    "tokenizer = Tokenizer(num_words=vocab_size, oov_token=\"<OOV>\")\n",
    "tokenizer.fit_on_texts(training_sentences)\n",
    "\n",
    "word_index = tokenizer.word_index\n",
    "# print(len(word_index))\n",
    "# print(word_index)\n",
    "training_sequences = tokenizer.texts_to_sequences(training_sentences)\n",
    "training_padded = pad_sequences(training_sequences, maxlen=max_length,\n",
    "                                padding=padding_type, truncating=trunc_type)\n",
    "testing_sequences = tokenizer.texts_to_sequences(testing_sentences)\n",
    "testing_padded = pad_sequences(testing_sequences, maxlen=max_length,\n",
    "                                padding=padding_type, truncating=trunc_type)\n",
    "training_padded = np.array(training_padded)\n",
    "training_labels = np.array(training_labels)\n",
    "testing_padded = np.array(testing_padded)\n",
    "testing_labels = np.array(testing_labels)"
   ]
  },
  {
   "cell_type": "code",
   "execution_count": 12,
   "metadata": {},
   "outputs": [
    {
     "name": "stdout",
     "output_type": "stream",
     "text": [
      "Model: \"sequential\"\n",
      "_________________________________________________________________\n",
      "Layer (type)                 Output Shape              Param #   \n",
      "=================================================================\n",
      "embedding (Embedding)        (None, 32, 32)            320000    \n",
      "_________________________________________________________________\n",
      "dropout (Dropout)            (None, 32, 32)            0         \n",
      "_________________________________________________________________\n",
      "conv1d (Conv1D)              (None, 28, 64)            10304     \n",
      "_________________________________________________________________\n",
      "max_pooling1d (MaxPooling1D) (None, 7, 64)             0         \n",
      "_________________________________________________________________\n",
      "lstm (LSTM)                  (None, 7, 128)            98816     \n",
      "_________________________________________________________________\n",
      "dropout_1 (Dropout)          (None, 7, 128)            0         \n",
      "_________________________________________________________________\n",
      "lstm_1 (LSTM)                (None, 64)                49408     \n",
      "_________________________________________________________________\n",
      "dropout_2 (Dropout)          (None, 64)                0         \n",
      "_________________________________________________________________\n",
      "dense (Dense)                (None, 32)                2080      \n",
      "_________________________________________________________________\n",
      "dropout_3 (Dropout)          (None, 32)                0         \n",
      "_________________________________________________________________\n",
      "dense_1 (Dense)              (None, 16)                528       \n",
      "_________________________________________________________________\n",
      "dropout_4 (Dropout)          (None, 16)                0         \n",
      "_________________________________________________________________\n",
      "dense_2 (Dense)              (None, 8)                 136       \n",
      "_________________________________________________________________\n",
      "dropout_5 (Dropout)          (None, 8)                 0         \n",
      "_________________________________________________________________\n",
      "dense_3 (Dense)              (None, 1)                 9         \n",
      "=================================================================\n",
      "Total params: 481,281\n",
      "Trainable params: 481,281\n",
      "Non-trainable params: 0\n",
      "_________________________________________________________________\n"
     ]
    }
   ],
   "source": [
    "model = tf.keras.Sequential([\n",
    "    tf.keras.layers.Embedding(vocab_size, embedding_dim, input_length=max_length), \n",
    "#     tf.keras.layers.GlobalAveragePooling1D(), \n",
    "#     tf.keras.layers.Dense(24, activation='relu'), \n",
    "#     tf.keras.layers.Dense(1, activation='sigmoid')\n",
    "    tf.keras.layers.Dropout(0.5),\n",
    "    tf.keras.layers.Conv1D(64, 5, activation='relu'),\n",
    "    tf.keras.layers.MaxPooling1D(pool_size=4),\n",
    "    tf.keras.layers.LSTM(128, return_sequences=True),\n",
    "    tf.keras.layers.Dropout(0.5),\n",
    "    tf.keras.layers.LSTM(64),\n",
    "    tf.keras.layers.Dropout(0.5),\n",
    "    tf.keras.layers.Dense(32, activation='relu'),\n",
    "    tf.keras.layers.Dropout(0.5),\n",
    "    tf.keras.layers.Dense(16, activation='relu'),\n",
    "    tf.keras.layers.Dropout(0.25),\n",
    "    tf.keras.layers.Dense(8, activation='relu'),\n",
    "    tf.keras.layers.Dropout(0.375),\n",
    "    tf.keras.layers.Dense(1, activation='sigmoid')\n",
    "])\n",
    "model.compile(\n",
    "    loss = 'binary_crossentropy', \n",
    "    optimizer = 'adam', \n",
    "    metrics = ['accuracy']\n",
    ")\n",
    "model.summary()"
   ]
  },
  {
   "cell_type": "code",
   "execution_count": 13,
   "metadata": {
    "scrolled": true
   },
   "outputs": [
    {
     "name": "stdout",
     "output_type": "stream",
     "text": [
      "Epoch 1/30\n",
      "625/625 - 12s - loss: 0.6104 - accuracy: 0.6375 - val_loss: 0.4077 - val_accuracy: 0.8077\n",
      "Epoch 2/30\n",
      "625/625 - 10s - loss: 0.3996 - accuracy: 0.8387 - val_loss: 0.3748 - val_accuracy: 0.8390\n",
      "Epoch 3/30\n",
      "625/625 - 9s - loss: 0.3003 - accuracy: 0.8986 - val_loss: 0.3904 - val_accuracy: 0.8463\n",
      "Epoch 4/30\n",
      "625/625 - 8s - loss: 0.2381 - accuracy: 0.9201 - val_loss: 0.4310 - val_accuracy: 0.8548\n",
      "Epoch 5/30\n",
      "625/625 - 8s - loss: 0.1934 - accuracy: 0.9399 - val_loss: 0.4373 - val_accuracy: 0.8489\n",
      "Epoch 6/30\n",
      "625/625 - 9s - loss: 0.1572 - accuracy: 0.9527 - val_loss: 0.5180 - val_accuracy: 0.8487\n",
      "Epoch 7/30\n",
      "625/625 - 9s - loss: 0.1377 - accuracy: 0.9579 - val_loss: 0.5627 - val_accuracy: 0.8425\n",
      "Epoch 8/30\n",
      "625/625 - 10s - loss: 0.1232 - accuracy: 0.9628 - val_loss: 0.6390 - val_accuracy: 0.8414\n",
      "Epoch 9/30\n",
      "625/625 - 10s - loss: 0.1049 - accuracy: 0.9678 - val_loss: 0.9237 - val_accuracy: 0.8463\n",
      "Epoch 10/30\n",
      "625/625 - 10s - loss: 0.1008 - accuracy: 0.9710 - val_loss: 0.7052 - val_accuracy: 0.8433\n",
      "Epoch 11/30\n",
      "625/625 - 11s - loss: 0.0897 - accuracy: 0.9730 - val_loss: 0.7844 - val_accuracy: 0.8426\n",
      "Epoch 12/30\n",
      "625/625 - 11s - loss: 0.0881 - accuracy: 0.9725 - val_loss: 0.7648 - val_accuracy: 0.8420\n",
      "Epoch 13/30\n",
      "625/625 - 10s - loss: 0.0780 - accuracy: 0.9753 - val_loss: 0.9999 - val_accuracy: 0.8407\n",
      "Epoch 14/30\n",
      "625/625 - 10s - loss: 0.0675 - accuracy: 0.9793 - val_loss: 0.9319 - val_accuracy: 0.8413\n",
      "Epoch 15/30\n",
      "625/625 - 9s - loss: 0.0678 - accuracy: 0.9789 - val_loss: 0.8309 - val_accuracy: 0.8331\n",
      "Epoch 16/30\n",
      "625/625 - 9s - loss: 0.0611 - accuracy: 0.9809 - val_loss: 1.2582 - val_accuracy: 0.8410\n",
      "Epoch 17/30\n",
      "625/625 - 9s - loss: 0.0614 - accuracy: 0.9819 - val_loss: 1.1617 - val_accuracy: 0.8408\n",
      "Epoch 18/30\n",
      "625/625 - 9s - loss: 0.0534 - accuracy: 0.9840 - val_loss: 1.1334 - val_accuracy: 0.8380\n",
      "Epoch 19/30\n",
      "625/625 - 10s - loss: 0.0496 - accuracy: 0.9840 - val_loss: 1.1639 - val_accuracy: 0.8441\n",
      "Epoch 20/30\n",
      "625/625 - 11s - loss: 0.0536 - accuracy: 0.9839 - val_loss: 1.2319 - val_accuracy: 0.8447\n",
      "Epoch 21/30\n",
      "625/625 - 12s - loss: 0.0483 - accuracy: 0.9845 - val_loss: 1.4954 - val_accuracy: 0.8422\n",
      "Epoch 22/30\n",
      "625/625 - 10s - loss: 0.0493 - accuracy: 0.9845 - val_loss: 1.5113 - val_accuracy: 0.8372\n",
      "Epoch 23/30\n",
      "625/625 - 10s - loss: 0.0482 - accuracy: 0.9848 - val_loss: 1.2624 - val_accuracy: 0.8375\n",
      "Epoch 24/30\n",
      "625/625 - 9s - loss: 0.0434 - accuracy: 0.9865 - val_loss: 1.4444 - val_accuracy: 0.8377\n",
      "Epoch 25/30\n",
      "625/625 - 9s - loss: 0.0445 - accuracy: 0.9857 - val_loss: 1.4389 - val_accuracy: 0.8383\n",
      "Epoch 26/30\n",
      "625/625 - 9s - loss: 0.0390 - accuracy: 0.9877 - val_loss: 1.8182 - val_accuracy: 0.8413\n",
      "Epoch 27/30\n",
      "625/625 - 10s - loss: 0.0385 - accuracy: 0.9866 - val_loss: 1.3739 - val_accuracy: 0.8255\n",
      "Epoch 28/30\n",
      "625/625 - 10s - loss: 0.0386 - accuracy: 0.9873 - val_loss: 2.4770 - val_accuracy: 0.8387\n",
      "Epoch 29/30\n",
      "625/625 - 11s - loss: 0.0348 - accuracy: 0.9905 - val_loss: 1.8138 - val_accuracy: 0.8407\n",
      "Epoch 30/30\n",
      "625/625 - 10s - loss: 0.0414 - accuracy: 0.9866 - val_loss: 1.7270 - val_accuracy: 0.8398\n"
     ]
    }
   ],
   "source": [
    "num_epochs = 30\n",
    "history = model.fit(\n",
    "    training_padded, \n",
    "    training_labels, \n",
    "    epochs=num_epochs, \n",
    "    validation_data=(testing_padded, testing_labels), \n",
    "    shuffle=True,\n",
    "    verbose=2\n",
    ")"
   ]
  },
  {
   "cell_type": "code",
   "execution_count": 14,
   "metadata": {},
   "outputs": [
    {
     "data": {
      "image/png": "[encoded data removed]",
      "text/plain": [
       "<Figure size 432x288 with 1 Axes>"
      ]
     },
     "metadata": {},
     "output_type": "display_data"
    },
    {
     "data": {
      "image/png": "[encoded data removed]",
      "text/plain": [
       "<Figure size 432x288 with 1 Axes>"
      ]
     },
     "metadata": {},
     "output_type": "display_data"
    }
   ],
   "source": [
    "import matplotlib.pyplot as plt\n",
    "\n",
    "def plot_graphs(history, string):\n",
    "    plt.plot(history.history[string])\n",
    "    plt.plot(history.history['val_'+string])\n",
    "    plt.xlabel(\"Epochs\")\n",
    "    plt.ylabel(string)\n",
    "    plt.legend([string, 'val_'+string])\n",
    "    plt.show()\n",
    "\n",
    "plot_graphs(history, \"accuracy\")\n",
    "plot_graphs(history, \"loss\")"
   ]
  },
  {
   "cell_type": "code",
   "execution_count": 15,
   "metadata": {},
   "outputs": [
    {
     "name": "stdout",
     "output_type": "stream",
     "text": [
      "WARNING:tensorflow:From c:\\users\\rhitv\\appdata\\local\\programs\\python\\python38\\lib\\site-packages\\tensorflow\\python\\ops\\resource_variable_ops.py:1813: calling BaseResourceVariable.__init__ (from tensorflow.python.ops.resource_variable_ops) with constraint is deprecated and will be removed in a future version.\n",
      "Instructions for updating:\n",
      "If using Keras pass *_constraint arguments to layers.\n",
      "INFO:tensorflow:Assets written to: saved_model\\assets\n"
     ]
    }
   ],
   "source": [
    "model.save(\"saved_model\")"
   ]
  },
  {
   "cell_type": "code",
   "execution_count": 16,
   "metadata": {},
   "outputs": [],
   "source": [
    "loaded_model = tf.keras.models.load_model(\"saved_model\")"
   ]
  },
  {
   "cell_type": "code",
   "execution_count": 17,
   "metadata": {},
   "outputs": [
    {
     "name": "stdout",
     "output_type": "stream",
     "text": [
      "210/210 [==============================] - 1s 5ms/step - loss: 1.7270 - accuracy: 0.8398\n"
     ]
    },
    {
     "data": {
      "text/plain": [
       "[1.7270185947418213, 0.8397674560546875]"
      ]
     },
     "execution_count": 17,
     "metadata": {},
     "output_type": "execute_result"
    }
   ],
   "source": [
    "model_eval = loaded_model.evaluate(\n",
    "    testing_padded, \n",
    "    testing_labels\n",
    ")\n",
    "model_eval"
   ]
  },
  {
   "cell_type": "code",
   "execution_count": 18,
   "metadata": {},
   "outputs": [
    {
     "name": "stdout",
     "output_type": "stream",
     "text": [
      "Popular New Podcast Just Mark Ruffalo Reading Names Of Murder Victims\n",
      "[[1191, 12, 3133, 38, 585, 8481, 1159, 680, 3, 792, 648]]\n",
      "[[1191   12 3133   38  585 8481 1159  680    3  792  648    0    0    0\n",
      "     0    0    0    0    0    0    0    0    0    0    0    0    0    0\n",
      "     0    0    0    0]]\n"
     ]
    }
   ],
   "source": [
    "headline = \"Popular New Podcast Just Mark Ruffalo Reading Names Of Murder Victims\"\n",
    "\n",
    "example_sequence = tokenizer.texts_to_sequences([headline.lower()])\n",
    "example_padded = pad_sequences(example_sequence, maxlen=max_length,\n",
    "                                padding=padding_type, truncating=trunc_type)\n",
    "print(headline)\n",
    "print(example_sequence)\n",
    "print(example_padded)"
   ]
  },
  {
   "cell_type": "code",
   "execution_count": 19,
   "metadata": {},
   "outputs": [
    {
     "name": "stdout",
     "output_type": "stream",
     "text": [
      "'Popular New Podcast Just Mark Ruffalo Reading Names Of Murder Victims'\n",
      "Sarcasm Detected\n"
     ]
    }
   ],
   "source": [
    "if(np.around(loaded_model.predict(example_padded)).reshape(-1)):\n",
    "    print(\"'\" + headline + \"'\" + \"\\nSarcasm Detected\")\n",
    "else: print(\"'\" + headline + \"'\" + \"\\nNo Sarcasm Detected\")"
   ]
  },
  {
   "cell_type": "code",
   "execution_count": null,
   "metadata": {},
   "outputs": [],
   "source": []
  }
 ],
 "metadata": {
  "kernelspec": {
   "display_name": "Python 3",
   "language": "python",
   "name": "python3"
  },
  "language_info": {
   "codemirror_mode": {
    "name": "ipython",
    "version": 3
   },
   "file_extension": ".py",
   "mimetype": "text/x-python",
   "name": "python",
   "nbconvert_exporter": "python",
   "pygments_lexer": "ipython3",
   "version": "3.8.2"
  },
  "toc": {
   "base_numbering": 1,
   "nav_menu": {},
   "number_sections": true,
   "sideBar": true,
   "skip_h1_title": true,
   "title_cell": "Table of Contents",
   "title_sidebar": "Contents",
   "toc_cell": false,
   "toc_position": {},
   "toc_section_display": true,
   "toc_window_display": false
  },
  "varInspector": {
   "cols": {
    "lenName": 16,
    "lenType": 16,
    "lenVar": "100"
   },
   "kernels_config": {
    "python": {
     "delete_cmd_postfix": "",
     "delete_cmd_prefix": "del ",
     "library": "var_list.py",
     "varRefreshCmd": "print(var_dic_list())"
    },
    "r": {
     "delete_cmd_postfix": ") ",
     "delete_cmd_prefix": "rm(",
     "library": "var_list.r",
     "varRefreshCmd": "cat(var_dic_list()) "
    }
   },
   "types_to_exclude": [
    "module",
    "function",
    "builtin_function_or_method",
    "instance",
    "_Feature"
   ],
   "window_display": false
  }
 },
 "nbformat": 4,
 "nbformat_minor": 4
}
